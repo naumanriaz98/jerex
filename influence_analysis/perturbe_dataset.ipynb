{
 "cells": [
  {
   "cell_type": "code",
   "execution_count": 1,
   "metadata": {},
   "outputs": [],
   "source": [
    "import json\n",
    "import random\n",
    "from collections import defaultdict\n",
    "from copy import deepcopy\n",
    "from tabulate import tabulate"
   ]
  },
  {
   "cell_type": "markdown",
   "metadata": {},
   "source": [
    "# Perturbe Dataset\n",
    "Creates a perturbed dataset by randomly removing relations between entities from the train dataset."
   ]
  },
  {
   "cell_type": "code",
   "execution_count": 2,
   "metadata": {},
   "outputs": [],
   "source": [
    "TRAIN_DATASET_FILE = \"/Users/mfa/code/lavis/jerex-infl/jerex/data/datasets/docred_joint/train_joint.json\"\n",
    "PERTURBED_FILE = \"/Users/mfa/code/lavis/jerex-infl/jerex/data/datasets/docred_joint/train_joint_perturbed.json\"\n",
    "REMOVED_REL_FILE = \"/Users/mfa/code/lavis/jerex-infl/jerex/data/datasets/docred_joint/train_joint_removed_rels.json\"\n",
    "\n",
    "REMOVE_RELATIONS_PERC = 0.1"
   ]
  },
  {
   "cell_type": "code",
   "execution_count": 3,
   "metadata": {},
   "outputs": [],
   "source": [
    "with open(TRAIN_DATASET_FILE, \"r\") as fd:\n",
    "    orig_data = json.load(fd)"
   ]
  },
  {
   "cell_type": "code",
   "execution_count": 4,
   "metadata": {},
   "outputs": [],
   "source": [
    "def relation_stats(dataset):\n",
    "    rels = defaultdict(int)\n",
    "\n",
    "    for doc in dataset:\n",
    "        for relation in doc['labels']:\n",
    "            rels[relation['r']] += 1\n",
    "    \n",
    "    return dict(rels)"
   ]
  },
  {
   "cell_type": "code",
   "execution_count": 5,
   "metadata": {},
   "outputs": [],
   "source": [
    "def perturbe_dataset(dataset: list, perc: int = REMOVE_RELATIONS_PERC) -> list:\n",
    "    pert_dataset = deepcopy(dataset)\n",
    "    removed_relations = list()\n",
    "    \n",
    "    for i, doc in enumerate(dataset):\n",
    "        removed_labels = list()\n",
    "\n",
    "        for j in range(len(doc['labels']))[-1::-1]:\n",
    "            if random.random() <= perc:\n",
    "                rel = doc['labels'][j]\n",
    "                removed_labels.append(rel)\n",
    "                pert_dataset[i]['labels'].pop(j)\n",
    "\n",
    "        removed_relations.append(removed_labels)\n",
    "    \n",
    "    assert len(pert_dataset) == len(dataset)\n",
    "\n",
    "    return pert_dataset, removed_relations"
   ]
  },
  {
   "cell_type": "code",
   "execution_count": 6,
   "metadata": {},
   "outputs": [],
   "source": [
    "perturbed_dataset, removed_relations = perturbe_dataset(orig_data)"
   ]
  },
  {
   "cell_type": "code",
   "execution_count": 7,
   "metadata": {},
   "outputs": [],
   "source": [
    "orig_rel_stats = relation_stats(orig_data)\n",
    "pert_rel_stats = relation_stats(perturbed_dataset)\n",
    "removed_rels = 0\n",
    "for doc in removed_relations:\n",
    "    removed_rels += len(doc)"
   ]
  },
  {
   "cell_type": "code",
   "execution_count": 8,
   "metadata": {},
   "outputs": [
    {
     "name": "stdout",
     "output_type": "stream",
     "text": [
      "Change in relation counts:\n",
      "-------------------------- \n",
      "\n",
      "Relation      Count (orig)    Count (pert)    Change (percentage)\n",
      "----------  --------------  --------------  ---------------------\n",
      "(Total)              37486           33693              0.101184\n",
      "\n",
      "P131                  4063            3639              0.104356\n",
      "P1412                  133             116              0.12782\n",
      "P6                     200             189              0.055\n",
      "P17                   8785            7890              0.101878\n",
      "P571                   488             454              0.0696721\n",
      "P488                    69              68              0.0144928\n",
      "P102                   383             346              0.0966057\n",
      "P27                   2631            2378              0.0961612\n",
      "P3373                  322             284              0.118012\n",
      "P19                    466             426              0.0858369\n",
      "P20                    189             176              0.0687831\n",
      "P569                  1035             920              0.111111\n",
      "P570                   778             697              0.104113\n",
      "P39                     24              20              0.166667\n",
      "P710                   219             195              0.109589\n",
      "P50                    310             272              0.122581\n",
      "P576                    89              79              0.11236\n",
      "P30                    366             346              0.0546448\n",
      "P463                   395             364              0.078481\n",
      "P361                   570             515              0.0964912\n",
      "P150                  1950            1743              0.106154\n",
      "P159                   264             227              0.140152\n",
      "P166                   187             167              0.106952\n",
      "P577                  1121             993              0.114184\n",
      "P800                   157             137              0.127389\n",
      "P127                   198             181              0.0858586\n",
      "P161                   622             565              0.0916399\n",
      "P1336                   37              32              0.135135\n",
      "P175                  1004             905              0.0986056\n",
      "P155                   178             157              0.117978\n",
      "P495                   553             493              0.108499\n",
      "P740                    58              56              0.0344828\n",
      "P22                    260             231              0.111538\n",
      "P40                    334             299              0.10479\n",
      "P26                    292             263              0.0993151\n",
      "P25                     63              59              0.0634921\n",
      "P35                    135             118              0.125926\n",
      "P580                   106              93              0.122642\n",
      "P582                    59              55              0.0677966\n",
      "P585                    94              79              0.159574\n",
      "P449                   143             134              0.0629371\n",
      "P527                   575             522              0.0921739\n",
      "P170                   218             200              0.0825688\n",
      "P108                   177             159              0.101695\n",
      "P1441                  332             298              0.10241\n",
      "P179                   159             142              0.106918\n",
      "P57                    243             220              0.0946502\n",
      "P58                    147             136              0.0748299\n",
      "P674                   184             165              0.103261\n",
      "P162                   122             107              0.122951\n",
      "P364                    75              66              0.12\n",
      "P178                   217             198              0.0875576\n",
      "P123                   185             171              0.0756757\n",
      "P400                   270             246              0.0888889\n",
      "P272                    90              85              0.0555556\n",
      "P69                    303             271              0.105611\n",
      "P137                   106              95              0.103774\n",
      "P118                   174             157              0.0977011\n",
      "P276                   199             181              0.0904523\n",
      "P206                   210             192              0.0857143\n",
      "P706                   142             121              0.147887\n",
      "P140                   157             138              0.121019\n",
      "P676                    19              17              0.105263\n",
      "P264                   640             573              0.104688\n",
      "P241                   117             103              0.119658\n",
      "P607                   283             254              0.102473\n",
      "P156                   173             160              0.0751445\n",
      "P54                    397             358              0.0982368\n",
      "P194                   171             149              0.128655\n",
      "P937                    84              78              0.0714286\n",
      "P1001                  289             257              0.110727\n",
      "P1056                   33              28              0.151515\n",
      "P86                     77              70              0.0909091\n",
      "P136                    89              76              0.146067\n",
      "P176                    81              70              0.135802\n",
      "P1344                  228             206              0.0964912\n",
      "P112                    92              80              0.130435\n",
      "P355                    81              78              0.037037\n",
      "P279                    79              74              0.0632911\n",
      "P31                     96              89              0.0729167\n",
      "P36                     75              64              0.146667\n",
      "P1376                   64              62              0.03125\n",
      "P749                    94              86              0.0851064\n",
      "P172                    79              72              0.0886076\n",
      "P205                    82              70              0.146341\n",
      "P37                    123             103              0.162602\n",
      "P403                   104              93              0.105769\n",
      "P1365                   15              11              0.266667\n",
      "P1366                   26              24              0.0769231\n",
      "P171                    79              71              0.101266\n",
      "P840                    49              39              0.204082\n",
      "P737                    16              15              0.0625\n",
      "P551                    31              28              0.0967742\n",
      "P1198                    1               1              0\n",
      "P190                     2               2              0\n",
      "P807                     2               1              0.5\n"
     ]
    }
   ],
   "source": [
    "for rel in orig_rel_stats:\n",
    "    assert rel in pert_rel_stats\n",
    "\n",
    "print(\"Change in relation counts:\")\n",
    "print(\"--------------------------\",\"\\n\")\n",
    "\n",
    "headers = [\"Relation\", \"Count (orig)\", \"Count (pert)\", \"Change (percentage)\"]\n",
    "rows = []\n",
    "\n",
    "# total\n",
    "orig_rel_count = sum(orig_rel_stats.values())\n",
    "pert_rel_count = sum(pert_rel_stats.values())\n",
    "removed_perc = 1 - (pert_rel_count / orig_rel_count)\n",
    "rows.append([\"(Total)\", orig_rel_count, pert_rel_count, removed_perc])\n",
    "rows.append([])\n",
    "\n",
    "for rel in orig_rel_stats:\n",
    "    orig_rel_count = orig_rel_stats[rel]\n",
    "    pert_rel_count = pert_rel_stats[rel]\n",
    "    removed_perc = 1 - (pert_rel_count / orig_rel_count)\n",
    "    rows.append([rel, orig_rel_count, pert_rel_count, removed_perc])\n",
    "\n",
    "print(tabulate(rows, headers=headers))"
   ]
  },
  {
   "cell_type": "markdown",
   "metadata": {},
   "source": [
    "### Dump perturbed dataset and removed relations"
   ]
  },
  {
   "cell_type": "code",
   "execution_count": 9,
   "metadata": {},
   "outputs": [],
   "source": [
    "with open(PERTURBED_FILE, \"w\") as fd:\n",
    "    json.dump(perturbed_dataset, fd)\n",
    "\n",
    "with open(REMOVED_REL_FILE, \"w\") as fd:\n",
    "    json.dump(removed_relations, fd)"
   ]
  },
  {
   "cell_type": "code",
   "execution_count": null,
   "metadata": {},
   "outputs": [],
   "source": []
  }
 ],
 "metadata": {
  "kernelspec": {
   "display_name": "Python 3.9.13 ('jerex')",
   "language": "python",
   "name": "python3"
  },
  "language_info": {
   "codemirror_mode": {
    "name": "ipython",
    "version": 3
   },
   "file_extension": ".py",
   "mimetype": "text/x-python",
   "name": "python",
   "nbconvert_exporter": "python",
   "pygments_lexer": "ipython3",
   "version": "3.9.13"
  },
  "orig_nbformat": 4,
  "vscode": {
   "interpreter": {
    "hash": "89162253f7923f6dd462dbdd48dd8d51abdc110a06081ad1ec0e3ffad7b96664"
   }
  }
 },
 "nbformat": 4,
 "nbformat_minor": 2
}
